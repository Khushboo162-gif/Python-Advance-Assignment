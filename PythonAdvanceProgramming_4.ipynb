{
 "cells": [
  {
   "cell_type": "markdown",
   "id": "ae50114b",
   "metadata": {},
   "source": [
    "1. In mathematics, the Fibonacci numbers, commonly denoted Fn, form a sequence, called the Fibonacci sequence, such that each number is the sum of the two preceding ones, starting from 0 and 1:"
   ]
  },
  {
   "cell_type": "code",
   "execution_count": 1,
   "id": "0a3fe498",
   "metadata": {},
   "outputs": [],
   "source": [
    "def fib_fast(n):\n",
    "    a = 0\n",
    "    b = 1\n",
    "    \n",
    "    for i in range(n):\n",
    "        temp = b\n",
    "        b = a + b\n",
    "        a = temp\n",
    "        \n",
    "        \n",
    "    return a"
   ]
  },
  {
   "cell_type": "code",
   "execution_count": 2,
   "id": "f24c07af",
   "metadata": {},
   "outputs": [
    {
     "data": {
      "text/plain": [
       "5"
      ]
     },
     "execution_count": 2,
     "metadata": {},
     "output_type": "execute_result"
    }
   ],
   "source": [
    "fib_fast(5)"
   ]
  },
  {
   "cell_type": "code",
   "execution_count": 3,
   "id": "7ca36e7f",
   "metadata": {},
   "outputs": [
    {
     "data": {
      "text/plain": [
       "55"
      ]
     },
     "execution_count": 3,
     "metadata": {},
     "output_type": "execute_result"
    }
   ],
   "source": [
    "fib_fast(10)"
   ]
  },
  {
   "cell_type": "code",
   "execution_count": 4,
   "id": "f800fc3d",
   "metadata": {},
   "outputs": [
    {
     "data": {
      "text/plain": [
       "6765"
      ]
     },
     "execution_count": 4,
     "metadata": {},
     "output_type": "execute_result"
    }
   ],
   "source": [
    "fib_fast(20)"
   ]
  },
  {
   "cell_type": "code",
   "execution_count": 5,
   "id": "40ded7c5",
   "metadata": {},
   "outputs": [
    {
     "data": {
      "text/plain": [
       "12586269025"
      ]
     },
     "execution_count": 5,
     "metadata": {},
     "output_type": "execute_result"
    }
   ],
   "source": [
    "fib_fast(50)"
   ]
  },
  {
   "cell_type": "markdown",
   "id": "75943749",
   "metadata": {},
   "source": [
    "2. Create a function that takes a strings characters as ASCII and returns each characters hexadecimal value as a string."
   ]
  },
  {
   "cell_type": "code",
   "execution_count": 6,
   "id": "3687f4a7",
   "metadata": {},
   "outputs": [],
   "source": [
    "def convert_to_hex(string):\n",
    "    \n",
    "    lst = []\n",
    "    \n",
    "    for i in string:\n",
    "        ascii_value = ord(i)\n",
    "        hex_value = hex(ascii_value)\n",
    "        value = hex_value.lstrip('0x')\n",
    "        lst.append(value)\n",
    "        \n",
    "    return \" \".join(lst)"
   ]
  },
  {
   "cell_type": "code",
   "execution_count": 7,
   "id": "8bd29ce3",
   "metadata": {},
   "outputs": [
    {
     "data": {
      "text/plain": [
       "'68 65 6c 6c 6f 20 77 6f 72 6c 64'"
      ]
     },
     "execution_count": 7,
     "metadata": {},
     "output_type": "execute_result"
    }
   ],
   "source": [
    "convert_to_hex(\"hello world\")"
   ]
  },
  {
   "cell_type": "code",
   "execution_count": 8,
   "id": "d814cb44",
   "metadata": {},
   "outputs": [
    {
     "data": {
      "text/plain": [
       "'4d 61 72 74 79 20 50 6f 70 70 69 6e 73 6f 6e'"
      ]
     },
     "execution_count": 8,
     "metadata": {},
     "output_type": "execute_result"
    }
   ],
   "source": [
    "convert_to_hex(\"Marty Poppinson\")"
   ]
  },
  {
   "cell_type": "markdown",
   "id": "ae7a28eb",
   "metadata": {},
   "source": [
    "3. Someone has attempted to censor my strings by replacing every vowel with a , lk ths. Luckily, I've been able to find the vowels that were removed."
   ]
  },
  {
   "cell_type": "code",
   "execution_count": 9,
   "id": "f8053390",
   "metadata": {},
   "outputs": [],
   "source": [
    "def uncensor(censor_string, censor_vowels):\n",
    "    \n",
    "    uncensor = \"\"\n",
    "    itr = 0\n",
    "    \n",
    "    for i in censor_string:\n",
    "        if i == '*':\n",
    "            uncensor += censor_vowels[itr]\n",
    "            itr += 1\n",
    "        else:\n",
    "            uncensor += i\n",
    "            \n",
    "    return uncensor"
   ]
  },
  {
   "cell_type": "code",
   "execution_count": 10,
   "id": "9775eae6",
   "metadata": {},
   "outputs": [
    {
     "data": {
      "text/plain": [
       "'Where did my vowels go?'"
      ]
     },
     "execution_count": 10,
     "metadata": {},
     "output_type": "execute_result"
    }
   ],
   "source": [
    "uncensor(\"Wh*r* d*d my v*w*ls g*?\", \"eeioeo\")"
   ]
  },
  {
   "cell_type": "code",
   "execution_count": 11,
   "id": "0a84d95d",
   "metadata": {},
   "outputs": [
    {
     "data": {
      "text/plain": [
       "'abcd'"
      ]
     },
     "execution_count": 11,
     "metadata": {},
     "output_type": "execute_result"
    }
   ],
   "source": [
    "uncensor('abcd', \"\")"
   ]
  },
  {
   "cell_type": "code",
   "execution_count": 12,
   "id": "7465c87c",
   "metadata": {},
   "outputs": [
    {
     "data": {
      "text/plain": [
       "'UPPERCASE'"
      ]
     },
     "execution_count": 12,
     "metadata": {},
     "output_type": "execute_result"
    }
   ],
   "source": [
    "uncensor('*PP*RC*S*', 'UEAE')"
   ]
  },
  {
   "cell_type": "markdown",
   "id": "80cfbccc",
   "metadata": {},
   "source": [
    "4. Write a function that takes an IP address and returns the domain name using PTR DNS records."
   ]
  },
  {
   "cell_type": "code",
   "execution_count": 13,
   "id": "f6025b14",
   "metadata": {},
   "outputs": [
    {
     "name": "stdout",
     "output_type": "stream",
     "text": [
      "dns.google.\n"
     ]
    }
   ],
   "source": [
    "#!pip install dnspython\n",
    "from dns import reversename\n",
    "from dns import resolver\n",
    "\n",
    "def get_domain(ipAdd):\n",
    "\n",
    "    domain_address = reversename.from_address(ipAdd)\n",
    "    domain_name = str(resolver.resolve(domain_address,\"PTR\")[0])\n",
    "    return domain_name\n",
    "\n",
    "\n",
    "print(get_domain('8.8.4.4'))"
   ]
  },
  {
   "cell_type": "code",
   "execution_count": 14,
   "id": "09f8e47f",
   "metadata": {},
   "outputs": [
    {
     "name": "stdout",
     "output_type": "stream",
     "text": [
      "dns.google.\n"
     ]
    }
   ],
   "source": [
    "print(get_domain(\"8.8.8.8\"))"
   ]
  },
  {
   "cell_type": "markdown",
   "id": "83494659",
   "metadata": {},
   "source": [
    "5. Create a function that takes an integer n and returns the factorial of factorials. See below examples for a better understanding:"
   ]
  },
  {
   "cell_type": "code",
   "execution_count": 15,
   "id": "bdd871a4",
   "metadata": {},
   "outputs": [],
   "source": [
    "def fact(num):\n",
    "    if num <= 1:\n",
    "        return 1\n",
    "    else:\n",
    "        return num * fact(num-1)\n",
    "    \n",
    "def fact_of_fact(num):\n",
    "    \n",
    "    total = 1\n",
    "    \n",
    "    while num > 1:\n",
    "        total *= fact(num)\n",
    "        num -= 1\n",
    "        \n",
    "    return total"
   ]
  },
  {
   "cell_type": "code",
   "execution_count": 16,
   "id": "38bff2c0",
   "metadata": {},
   "outputs": [
    {
     "data": {
      "text/plain": [
       "288"
      ]
     },
     "execution_count": 16,
     "metadata": {},
     "output_type": "execute_result"
    }
   ],
   "source": [
    "fact_of_fact(4)"
   ]
  },
  {
   "cell_type": "code",
   "execution_count": 17,
   "id": "bd2c7fcc",
   "metadata": {},
   "outputs": [
    {
     "data": {
      "text/plain": [
       "34560"
      ]
     },
     "execution_count": 17,
     "metadata": {},
     "output_type": "execute_result"
    }
   ],
   "source": [
    "fact_of_fact(5)"
   ]
  },
  {
   "cell_type": "code",
   "execution_count": 18,
   "id": "86c3cb10",
   "metadata": {},
   "outputs": [
    {
     "data": {
      "text/plain": [
       "24883200"
      ]
     },
     "execution_count": 18,
     "metadata": {},
     "output_type": "execute_result"
    }
   ],
   "source": [
    "fact_of_fact(6)"
   ]
  }
 ],
 "metadata": {
  "kernelspec": {
   "display_name": "Python 3",
   "language": "python",
   "name": "python3"
  },
  "language_info": {
   "codemirror_mode": {
    "name": "ipython",
    "version": 3
   },
   "file_extension": ".py",
   "mimetype": "text/x-python",
   "name": "python",
   "nbconvert_exporter": "python",
   "pygments_lexer": "ipython3",
   "version": "3.8.8"
  }
 },
 "nbformat": 4,
 "nbformat_minor": 5
}
